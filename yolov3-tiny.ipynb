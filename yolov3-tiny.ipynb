{
 "cells": [
  {
   "cell_type": "code",
   "execution_count": null,
   "metadata": {},
   "outputs": [],
   "source": [
    "!git clone -b v5 https://github.com/ultralytics/yolov3"
   ]
  },
  {
   "cell_type": "code",
   "execution_count": null,
   "metadata": {},
   "outputs": [],
   "source": [
    "# 上传data.zip (yolo格式) 到yolov5并目录下\n",
    "!unzip -q data.zip -d yolov3/data_up\n",
    "!rm -rf yolov3/data/images\n",
    "!mv yolov3/data_up/images yolov3/data/\n",
    "!mv yolov3/data_up/labels yolov3/data/\n",
    "!mv yolov3/data_up/train.txt yolov3/data/\n",
    "!mv yolov3/data_up/test.txt yolov3/data/\n",
    "!mv yolov3/data_up/val.txt yolov3/data/"
   ]
  },
  {
   "cell_type": "markdown",
   "metadata": {},
   "source": [
    "- 将yolov3/cfg/yolov3-tiny.cfg复制一份到yolov3/目录下\n",
    "  修改两个[yolo]模块下的classes以及[yolo]前面[convlution]的filters为(3*class+15)\n",
    "- 在yolov3/ 下面新建 datasets.data,内容为:\n",
    "```python\n",
    "train=data/train.txt\n",
    "valid=data/test.txt\n",
    "classes=2\n",
    "names=data/labels.names\n",
    "```\n",
    "\n",
    "- 在yolov3/data/ 新建labels.names 内容为:\n",
    "```\n",
    "blue\n",
    "red\n",
    "```"
   ]
  },
  {
   "cell_type": "code",
   "execution_count": null,
   "metadata": {},
   "outputs": [],
   "source": [
    "import os\n",
    "os.chdir('yolov3')\n",
    "#!pip install torch==1.2.0\n",
    "#!pip install -r requirements.txt\n",
    "!python3 train.py --img-size 320 --batch-size 2 --cfg model.cfg --data-cfg dataset.data --epochs 1000 --resume\n",
    "\n",
    "os.chdir('../')"
   ]
  },
  {
   "cell_type": "code",
   "execution_count": null,
   "metadata": {},
   "outputs": [],
   "source": [
    "import os\n",
    "os.chdir('yolov3')\n",
    "!cp data/images/1.jpg data/samples/\n",
    "!python detect.py --img-size 320 --weights weights/backup40.pt --cfg model.cfg --data-cfg dataset.data\n",
    "\n",
    "os.chdir('../')"
   ]
  }
 ],
 "metadata": {
  "language_info": {
   "name": "python"
  },
  "orig_nbformat": 4
 },
 "nbformat": 4,
 "nbformat_minor": 2
}
